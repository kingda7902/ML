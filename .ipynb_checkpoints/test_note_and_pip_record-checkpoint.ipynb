{
 "cells": [
  {
   "cell_type": "code",
   "execution_count": null,
   "metadata": {
    "collapsed": true
   },
   "outputs": [],
   "source": [
    "import numpy as np\n",
    "import pandas as pd\n",
    "import matplotlib as mp"
   ]
  },
  {
   "cell_type": "code",
   "execution_count": 5,
   "metadata": {
    "collapsed": true
   },
   "outputs": [],
   "source": [
    "import tensorflow as tf"
   ]
  },
  {
   "cell_type": "code",
   "execution_count": 6,
   "metadata": {},
   "outputs": [
    {
     "name": "stdout",
     "output_type": "stream",
     "text": [
      "b'Hello!'\n"
     ]
    }
   ],
   "source": [
    "hello = tf.constant('Hello!')\n",
    "sess = tf.Session()\n",
    "print(sess.run(hello))"
   ]
  },
  {
   "cell_type": "markdown",
   "metadata": {},
   "source": [
    "# tensorflow"
   ]
  },
  {
   "cell_type": "code",
   "execution_count": 2,
   "metadata": {
    "scrolled": true
   },
   "outputs": [
    {
     "name": "stdout",
     "output_type": "stream",
     "text": [
      "Collecting tensorflow\n",
      "  Downloading tensorflow-1.4.0-cp36-cp36m-win_amd64.whl (28.3MB)\n",
      "Collecting numpy>=1.12.1 (from tensorflow)\n",
      "  Downloading numpy-1.13.3-cp36-none-win_amd64.whl (13.1MB)\n",
      "Collecting protobuf>=3.3.0 (from tensorflow)\n",
      "  Downloading protobuf-3.5.0.post1-py2.py3-none-any.whl (389kB)\n",
      "Collecting wheel>=0.26 (from tensorflow)\n",
      "  Downloading wheel-0.30.0-py2.py3-none-any.whl (49kB)\n",
      "Collecting tensorflow-tensorboard<0.5.0,>=0.4.0rc1 (from tensorflow)\n",
      "  Downloading tensorflow_tensorboard-0.4.0rc3-py3-none-any.whl (1.7MB)\n",
      "Collecting six>=1.10.0 (from tensorflow)\n",
      "  Downloading six-1.11.0-py2.py3-none-any.whl\n",
      "Collecting enum34>=1.1.6 (from tensorflow)\n",
      "  Downloading enum34-1.1.6-py3-none-any.whl\n",
      "Collecting setuptools (from protobuf>=3.3.0->tensorflow)\n",
      "  Downloading setuptools-38.2.4-py2.py3-none-any.whl (489kB)\n",
      "Collecting bleach==1.5.0 (from tensorflow-tensorboard<0.5.0,>=0.4.0rc1->tensorflow)\n",
      "  Downloading bleach-1.5.0-py2.py3-none-any.whl\n",
      "Collecting markdown>=2.6.8 (from tensorflow-tensorboard<0.5.0,>=0.4.0rc1->tensorflow)\n",
      "  Downloading Markdown-2.6.9.tar.gz (271kB)\n",
      "Collecting werkzeug>=0.11.10 (from tensorflow-tensorboard<0.5.0,>=0.4.0rc1->tensorflow)\n",
      "  Downloading Werkzeug-0.12.2-py2.py3-none-any.whl (312kB)\n",
      "Collecting html5lib==0.9999999 (from tensorflow-tensorboard<0.5.0,>=0.4.0rc1->tensorflow)\n",
      "  Downloading html5lib-0.9999999.tar.gz (889kB)\n",
      "Building wheels for collected packages: markdown, html5lib\n",
      "  Running setup.py bdist_wheel for markdown: started\n",
      "  Running setup.py bdist_wheel for markdown: finished with status 'done'\n",
      "  Stored in directory: C:\\Users\\Marshall\\AppData\\Local\\pip\\Cache\\wheels\\bf\\46\\10\\c93e17ae86ae3b3a919c7b39dad3b5ccf09aeb066419e5c1e5\n",
      "  Running setup.py bdist_wheel for html5lib: started\n",
      "  Running setup.py bdist_wheel for html5lib: finished with status 'done'\n",
      "  Stored in directory: C:\\Users\\Marshall\\AppData\\Local\\pip\\Cache\\wheels\\6f\\85\\6c\\56b8e1292c6214c4eb73b9dda50f53e8e977bf65989373c962\n",
      "Successfully built markdown html5lib\n",
      "Installing collected packages: numpy, six, setuptools, protobuf, wheel, html5lib, bleach, markdown, werkzeug, tensorflow-tensorboard, enum34, tensorflow\n",
      "Successfully installed bleach-2.0.0 enum34-1.1.6 html5lib-0.999999999 markdown-2.6.9 numpy-1.13.3 protobuf-3.5.0.post1 setuptools-38.2.4 six-1.11.0 tensorflow-1.4.0 tensorflow-tensorboard-0.4.0rc3 werkzeug-0.12.2 wheel-0.30.0\n"
     ]
    }
   ],
   "source": [
    "!pip install --ignore-installed --upgrade tensorflow "
   ]
  },
  {
   "cell_type": "code",
   "execution_count": 1,
   "metadata": {},
   "outputs": [
    {
     "name": "stdout",
     "output_type": "stream",
     "text": [
      "Requirement already satisfied: h5py in c:\\users\\marshall\\appdata\\local\\conda\\conda\\envs\\ntuml\\lib\\site-packages\n",
      "Requirement already satisfied: numpy>=1.7 in c:\\users\\marshall\\appdata\\local\\conda\\conda\\envs\\ntuml\\lib\\site-packages (from h5py)\n",
      "Requirement already satisfied: six in c:\\users\\marshall\\appdata\\local\\conda\\conda\\envs\\ntuml\\lib\\site-packages (from h5py)\n"
     ]
    }
   ],
   "source": [
    "!pip install h5py"
   ]
  },
  {
   "cell_type": "code",
   "execution_count": 4,
   "metadata": {
    "scrolled": true
   },
   "outputs": [
    {
     "name": "stdout",
     "output_type": "stream",
     "text": [
      "Collecting pydot\n"
     ]
    },
    {
     "name": "stderr",
     "output_type": "stream",
     "text": [
      "Exception:\n",
      "Traceback (most recent call last):\n",
      "  File \"C:\\Users\\Marshall\\AppData\\Local\\conda\\conda\\envs\\ntuML\\lib\\site-packages\\pip\\basecommand.py\", line 215, in main\n",
      "    status = self.run(options, args)\n",
      "  File \"C:\\Users\\Marshall\\AppData\\Local\\conda\\conda\\envs\\ntuML\\lib\\site-packages\\pip\\commands\\install.py\", line 335, in run\n",
      "    wb.build(autobuilding=True)\n",
      "  File \"C:\\Users\\Marshall\\AppData\\Local\\conda\\conda\\envs\\ntuML\\lib\\site-packages\\pip\\wheel.py\", line 749, in build\n",
      "    self.requirement_set.prepare_files(self.finder)\n",
      "  File \"C:\\Users\\Marshall\\AppData\\Local\\conda\\conda\\envs\\ntuML\\lib\\site-packages\\pip\\req\\req_set.py\", line 380, in prepare_files\n",
      "    ignore_dependencies=self.ignore_dependencies))\n",
      "  File \"C:\\Users\\Marshall\\AppData\\Local\\conda\\conda\\envs\\ntuML\\lib\\site-packages\\pip\\req\\req_set.py\", line 554, in _prepare_file\n",
      "    require_hashes\n",
      "  File \"C:\\Users\\Marshall\\AppData\\Local\\conda\\conda\\envs\\ntuML\\lib\\site-packages\\pip\\req\\req_install.py\", line 278, in populate_link\n",
      "    self.link = finder.find_requirement(self, upgrade)\n",
      "  File \"C:\\Users\\Marshall\\AppData\\Local\\conda\\conda\\envs\\ntuML\\lib\\site-packages\\pip\\index.py\", line 465, in find_requirement\n",
      "    all_candidates = self.find_all_candidates(req.name)\n",
      "  File \"C:\\Users\\Marshall\\AppData\\Local\\conda\\conda\\envs\\ntuML\\lib\\site-packages\\pip\\index.py\", line 423, in find_all_candidates\n",
      "    for page in self._get_pages(url_locations, project_name):\n",
      "  File \"C:\\Users\\Marshall\\AppData\\Local\\conda\\conda\\envs\\ntuML\\lib\\site-packages\\pip\\index.py\", line 568, in _get_pages\n",
      "    page = self._get_page(location)\n",
      "  File \"C:\\Users\\Marshall\\AppData\\Local\\conda\\conda\\envs\\ntuML\\lib\\site-packages\\pip\\index.py\", line 683, in _get_page\n",
      "    return HTMLPage.get_page(link, session=self.session)\n",
      "  File \"C:\\Users\\Marshall\\AppData\\Local\\conda\\conda\\envs\\ntuML\\lib\\site-packages\\pip\\index.py\", line 811, in get_page\n",
      "    inst = cls(resp.content, resp.url, resp.headers)\n",
      "  File \"C:\\Users\\Marshall\\AppData\\Local\\conda\\conda\\envs\\ntuML\\lib\\site-packages\\pip\\index.py\", line 731, in __init__\n",
      "    namespaceHTMLElements=False,\n",
      "TypeError: parse() got an unexpected keyword argument 'transport_encoding'\n"
     ]
    }
   ],
   "source": [
    "!pip install pydot"
   ]
  },
  {
   "cell_type": "code",
   "execution_count": 3,
   "metadata": {
    "scrolled": true
   },
   "outputs": [
    {
     "name": "stdout",
     "output_type": "stream",
     "text": [
      "Collecting keras\n"
     ]
    },
    {
     "name": "stderr",
     "output_type": "stream",
     "text": [
      "Exception:\n",
      "Traceback (most recent call last):\n",
      "  File \"C:\\Users\\Marshall\\AppData\\Local\\conda\\conda\\envs\\ntuML\\lib\\site-packages\\pip\\basecommand.py\", line 215, in main\n",
      "    status = self.run(options, args)\n",
      "  File \"C:\\Users\\Marshall\\AppData\\Local\\conda\\conda\\envs\\ntuML\\lib\\site-packages\\pip\\commands\\install.py\", line 335, in run\n",
      "    wb.build(autobuilding=True)\n",
      "  File \"C:\\Users\\Marshall\\AppData\\Local\\conda\\conda\\envs\\ntuML\\lib\\site-packages\\pip\\wheel.py\", line 749, in build\n",
      "    self.requirement_set.prepare_files(self.finder)\n",
      "  File \"C:\\Users\\Marshall\\AppData\\Local\\conda\\conda\\envs\\ntuML\\lib\\site-packages\\pip\\req\\req_set.py\", line 380, in prepare_files\n",
      "    ignore_dependencies=self.ignore_dependencies))\n",
      "  File \"C:\\Users\\Marshall\\AppData\\Local\\conda\\conda\\envs\\ntuML\\lib\\site-packages\\pip\\req\\req_set.py\", line 554, in _prepare_file\n",
      "    require_hashes\n",
      "  File \"C:\\Users\\Marshall\\AppData\\Local\\conda\\conda\\envs\\ntuML\\lib\\site-packages\\pip\\req\\req_install.py\", line 278, in populate_link\n",
      "    self.link = finder.find_requirement(self, upgrade)\n",
      "  File \"C:\\Users\\Marshall\\AppData\\Local\\conda\\conda\\envs\\ntuML\\lib\\site-packages\\pip\\index.py\", line 465, in find_requirement\n",
      "    all_candidates = self.find_all_candidates(req.name)\n",
      "  File \"C:\\Users\\Marshall\\AppData\\Local\\conda\\conda\\envs\\ntuML\\lib\\site-packages\\pip\\index.py\", line 423, in find_all_candidates\n",
      "    for page in self._get_pages(url_locations, project_name):\n",
      "  File \"C:\\Users\\Marshall\\AppData\\Local\\conda\\conda\\envs\\ntuML\\lib\\site-packages\\pip\\index.py\", line 568, in _get_pages\n",
      "    page = self._get_page(location)\n",
      "  File \"C:\\Users\\Marshall\\AppData\\Local\\conda\\conda\\envs\\ntuML\\lib\\site-packages\\pip\\index.py\", line 683, in _get_page\n",
      "    return HTMLPage.get_page(link, session=self.session)\n",
      "  File \"C:\\Users\\Marshall\\AppData\\Local\\conda\\conda\\envs\\ntuML\\lib\\site-packages\\pip\\index.py\", line 811, in get_page\n",
      "    inst = cls(resp.content, resp.url, resp.headers)\n",
      "  File \"C:\\Users\\Marshall\\AppData\\Local\\conda\\conda\\envs\\ntuML\\lib\\site-packages\\pip\\index.py\", line 731, in __init__\n",
      "    namespaceHTMLElements=False,\n",
      "TypeError: parse() got an unexpected keyword argument 'transport_encoding'\n"
     ]
    }
   ],
   "source": [
    "!pip install keras"
   ]
  },
  {
   "cell_type": "code",
   "execution_count": 6,
   "metadata": {},
   "outputs": [
    {
     "name": "stderr",
     "output_type": "stream",
     "text": [
      "Using TensorFlow backend.\n"
     ]
    }
   ],
   "source": [
    "from keras.models import Sequential\n",
    "from keras.layers import Dense, Activation\n",
    "\n",
    "model = Sequential([\n",
    "    Dense(32, input_shape=(784,)),\n",
    "    Activation('relu'),\n",
    "    Dense(10),\n",
    "    Activation('softmax'),\n",
    "])"
   ]
  },
  {
   "cell_type": "code",
   "execution_count": 7,
   "metadata": {
    "collapsed": true
   },
   "outputs": [],
   "source": [
    "from keras.utils import plot_model\n",
    "plot_model(model, to_file='test_model.png')"
   ]
  },
  {
   "cell_type": "code",
   "execution_count": 8,
   "metadata": {},
   "outputs": [
    {
     "name": "stdout",
     "output_type": "stream",
     "text": [
      "_________________________________________________________________\n",
      "Layer (type)                 Output Shape              Param #   \n",
      "=================================================================\n",
      "dense_1 (Dense)              (None, 32)                25120     \n",
      "_________________________________________________________________\n",
      "activation_1 (Activation)    (None, 32)                0         \n",
      "_________________________________________________________________\n",
      "dense_2 (Dense)              (None, 10)                330       \n",
      "_________________________________________________________________\n",
      "activation_2 (Activation)    (None, 10)                0         \n",
      "=================================================================\n",
      "Total params: 25,450\n",
      "Trainable params: 25,450\n",
      "Non-trainable params: 0\n",
      "_________________________________________________________________\n"
     ]
    }
   ],
   "source": [
    "model.summary()"
   ]
  },
  {
   "cell_type": "code",
   "execution_count": 4,
   "metadata": {
    "collapsed": true
   },
   "outputs": [],
   "source": [
    "import pydot"
   ]
  },
  {
   "cell_type": "code",
   "execution_count": 1,
   "metadata": {
    "collapsed": true
   },
   "outputs": [],
   "source": [
    "import sys"
   ]
  },
  {
   "cell_type": "code",
   "execution_count": 2,
   "metadata": {},
   "outputs": [
    {
     "data": {
      "text/plain": [
       "'C:\\\\Users\\\\Marshall\\\\AppData\\\\Local\\\\conda\\\\conda\\\\envs\\\\ntuML'"
      ]
     },
     "execution_count": 2,
     "metadata": {},
     "output_type": "execute_result"
    }
   ],
   "source": [
    "sys.prefix"
   ]
  },
  {
   "cell_type": "code",
   "execution_count": 5,
   "metadata": {},
   "outputs": [
    {
     "data": {
      "text/plain": [
       "'C:\\\\Users\\\\Marshall\\\\AppData\\\\Local\\\\conda\\\\conda\\\\envs\\\\ntuML\\\\python.exe'"
      ]
     },
     "execution_count": 5,
     "metadata": {},
     "output_type": "execute_result"
    }
   ],
   "source": [
    "sys.executable"
   ]
  },
  {
   "cell_type": "code",
   "execution_count": null,
   "metadata": {
    "collapsed": true
   },
   "outputs": [],
   "source": []
  }
 ],
 "metadata": {
  "kernelspec": {
   "display_name": "Python 3",
   "language": "python",
   "name": "python3"
  },
  "language_info": {
   "codemirror_mode": {
    "name": "ipython",
    "version": 3
   },
   "file_extension": ".py",
   "mimetype": "text/x-python",
   "name": "python",
   "nbconvert_exporter": "python",
   "pygments_lexer": "ipython3",
   "version": "3.6.3"
  }
 },
 "nbformat": 4,
 "nbformat_minor": 2
}
