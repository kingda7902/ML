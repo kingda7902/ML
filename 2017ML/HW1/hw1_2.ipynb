{
 "cells": [
  {
   "cell_type": "markdown",
   "metadata": {},
   "source": [
    "## exercise\n",
    "物件導向\n",
    "oriented object "
   ]
  },
  {
   "cell_type": "code",
   "execution_count": 3,
   "metadata": {
    "collapsed": true
   },
   "outputs": [],
   "source": [
    "#-*- coding: utf-8 -*-\n",
    "\n",
    "import numpy as np\n",
    "import pandas as pd\n",
    "class train():\n",
    "    \n",
    "    def __init__(self):\n",
    "        pass\n",
    "    \n",
    "    def read_train(self):\n",
    "        pass\n",
    "    \n",
    "    def read_test(self):\n",
    "        pass\n",
    "    \n",
    "    def cost_func():\n",
    "        pass\n",
    "    \n",
    "    def grad():\n",
    "        pass\n",
    "    \n",
    "    def show_graph():\n",
    "        pass\n",
    "    \n",
    "    def descent():\n",
    "        pass\n",
    "    \n",
    "\n",
    "    \n",
    "\n"
   ]
  },
  {
   "cell_type": "code",
   "execution_count": 4,
   "metadata": {
    "collapsed": true
   },
   "outputs": [],
   "source": [
    "class standardize(): \n",
    "    def __init__(self):\n",
    "        pass\n",
    "    def fit(self, X):\n",
    "        '''X as matrix like'''\n",
    "        X = np.matrix(X)\n",
    "        self.mean = X.mean(0, dtype=np.float32)\n",
    "        self.std = X.std(0, dtype=np.float64)\n",
    "    def transfer(self, X):\n",
    "        try:\n",
    "            return ((X-self.mean)/self.std).getA()\n",
    "        except:\n",
    "            print(\"dimesion may be same of fitting\")"
   ]
  },
  {
   "cell_type": "markdown",
   "metadata": {},
   "source": [
    "## "
   ]
  },
  {
   "cell_type": "code",
   "execution_count": 5,
   "metadata": {
    "collapsed": true
   },
   "outputs": [],
   "source": [
    "import numpy as np\n",
    "\n",
    "class differential():\n",
    "    def __init__(self, dtype = np.float32):\n",
    "        self.eps = np.finfo(dtype).eps #eps:the min positive s.t 1.0+eps != 1.0 \n",
    "        \n",
    "        \n",
    "        \n",
    "    def acc_dev(self, func, where):\n",
    "        pass\n",
    "    \n",
    "    def acc_partial(self, func, where, i=0,epsilon=1e-6, limit=32):\n",
    "        ''' \n",
    "        partial(i,func, [x_1,...x_n], epsilon=1e-6, limit=32) return the i-th partail value at x\n",
    "        if the derivate not exit return None\n",
    "        Here supposes f(x) = a is a n-d real to 1-d real number\n",
    "        i: i-th component, begin 1\n",
    "        func: function or mapping\n",
    "        x: array-like\n",
    "        epsilon: precision of derivate\n",
    "        limt: the limit digit of computing derivate, \n",
    "        '''\n",
    "        x = np.array(where)\n",
    "        delta_h = np.zeros(x.size)\n",
    "        fx = func(x)\n",
    "        count = 0\n",
    "        M = 1\n",
    "        left_lim = 1\n",
    "        right_lim = left_lim+1+epsilon\n",
    "        while abs(right_lim - left_lim) > epsilon :\n",
    "            delta_h[i-1] = 1/M\n",
    "            right_lim = (func(x+delta_h) - fx)*M\n",
    "            left_lim = (fx - func(x-delta_h))*M\n",
    "            M = M*2\n",
    "            count = count +1\n",
    "            if count >= limit:\n",
    "                return None \n",
    "        return (left_lim+right_lim)/2\n",
    "    \n",
    "    def devrivate():\n",
    "        \"\"\"\n",
    "        use difference methond \n",
    "        \n",
    "        \n",
    "        \"\"\""
   ]
  },
  {
   "cell_type": "code",
   "execution_count": 6,
   "metadata": {
    "collapsed": true
   },
   "outputs": [],
   "source": [
    "%matplotlib inline\n",
    "import matplotlib.pyplot as plt\n",
    "\n",
    "class test():\n",
    "    pass"
   ]
  },
  {
   "cell_type": "code",
   "execution_count": 1,
   "metadata": {},
   "outputs": [],
   "source": [
    "import numpy as np"
   ]
  },
  {
   "cell_type": "code",
   "execution_count": 9,
   "metadata": {},
   "outputs": [
    {
     "data": {
      "text/plain": [
       "0.000977"
      ]
     },
     "execution_count": 9,
     "metadata": {},
     "output_type": "execute_result"
    }
   ],
   "source": [
    "np.finfo(np.float16).eps"
   ]
  },
  {
   "cell_type": "code",
   "execution_count": null,
   "metadata": {},
   "outputs": [],
   "source": []
  }
 ],
 "metadata": {
  "kernelspec": {
   "display_name": "Python 3",
   "language": "python",
   "name": "python3"
  },
  "language_info": {
   "codemirror_mode": {
    "name": "ipython",
    "version": 3
   },
   "file_extension": ".py",
   "mimetype": "text/x-python",
   "name": "python",
   "nbconvert_exporter": "python",
   "pygments_lexer": "ipython3",
   "version": "3.5.2"
  }
 },
 "nbformat": 4,
 "nbformat_minor": 2
}
