{
 "cells": [
  {
   "cell_type": "markdown",
   "metadata": {},
   "source": [
    "# linear regression\n",
    "## spring\n",
    "[link](https://docs.google.com/presentation/d/1L1LwpKm5DxhHndiyyiZ3wJA2mKOJTQ2heKo45Me5yVg/edit#slide=id.g1eaee6a347_0_8)\n",
    "\n",
    "## fall\n",
    "[link](https://ntumlta.github.io/2017fall-ml-hw1/)\n",
    "\n",
    "- hw1.sh\n",
    " - Python3.5+ required\n",
    " - Only (1)numpy (2)scipy (3)pandas are allowed\n",
    " - numpy.linalg.lstsq is forbidden.\n",
    " - Please handcraft \"linear regression\" using Gradient Descent\n",
    " - beat public simple baseline\n",
    " - For those who wish to load model instead of running whole training precess:\n",
    " - please upload your training code named train.py\n",
    " - as long as there are Gradient Descent Code in train.py, it's fine\n",
    "- hw1_best.sh\n",
    " - Python3.5+ required\n",
    " - any library is allowed\n",
    " - meet the higher score you choose in kaggle\n",
    " \n",
    " ### Data 簡介\n",
    "\n",
    "* [train.csv](./data/train.csv) : 每個月前20天每個小時的氣象資料(每小時有18種測資)。共12個月。\n",
    "* [test.csv](./data/test.csv) : 排除train.csv中剩餘的資料，取連續9小時的資料當feature，預測第10小時的PM2.5值。總共取240筆不重複的test data。\n",
    "* [sampleSubmission.csv](./data/sampleSubmission.csv)\n",
    "* [testing答案](./data/ans.csv)"
   ]
  },
  {
   "cell_type": "code",
   "execution_count": null,
   "metadata": {
    "collapsed": true
   },
   "outputs": [],
   "source": []
  }
 ],
 "metadata": {
  "kernelspec": {
   "display_name": "Python 3",
   "language": "python",
   "name": "python3"
  },
  "language_info": {
   "codemirror_mode": {
    "name": "ipython",
    "version": 3
   },
   "file_extension": ".py",
   "mimetype": "text/x-python",
   "name": "python",
   "nbconvert_exporter": "python",
   "pygments_lexer": "ipython3",
   "version": "3.6.3"
  }
 },
 "nbformat": 4,
 "nbformat_minor": 2
}
