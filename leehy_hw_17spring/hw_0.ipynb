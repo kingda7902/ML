{
 "cells": [
  {
   "cell_type": "markdown",
   "metadata": {
    "collapsed": true
   },
   "source": [
    "# HW0\n",
    "[link](https://docs.google.com/presentation/d/1wQ4H_JbFkFzKhLhBrRa_tfBJOhb2JAk5bBeMWf_I-7U/edit#slide=id.p)\n",
    "\n",
    "1. [Q1](#matrix-operation)\n",
    "2. [Q2](#images)\n",
    "\n",
    "## 繳交格式\n",
    "./Q1.sh matrixA.txt matrixB.txt  \n",
    "\t輸出檔名: ans_one.txt  \n",
    "./Q2.sh  lena.png lena_modified.png  \n",
    "\t輸出檔名: ans_two.png  \n",
    "\n",
    "## Hint\n",
    "numpy\n",
    "\n",
    "[PIL](https://docs.google.com/presentation/d/18z60-n4nhOYuQphWX2tEXC6ZTcaqhL_Pg1v-GDVQxJQ/edit#slide=id.p)"
   ]
  },
  {
   "cell_type": "markdown",
   "metadata": {},
   "source": [
    "## matrix operation\n",
    "1.  讀取.txt中的矩陣\n",
    "2.  進行矩陣乘法 - matrixA * matrixB \n",
    "3.  將得到的矩陣數值，由小到大排序後輸出至ans_one.txt\n"
   ]
  },
  {
   "cell_type": "code",
   "execution_count": 1,
   "metadata": {
    "collapsed": true
   },
   "outputs": [],
   "source": [
    "import numpy as np\n",
    "from random import randint\n",
    "\n",
    "def make_matrix_file( n, m, output_file=\"./matricA.txt\", interval=[0,9] ):\n",
    "    matrix = np.random.randint( interval[0], interval[1] + 1, size=[n,m])\n",
    "    np.savetxt(output_file, matrix, fmt=\"%d\")\n",
    "    return True"
   ]
  },
  {
   "cell_type": "code",
   "execution_count": 2,
   "metadata": {},
   "outputs": [
    {
     "data": {
      "text/plain": [
       "True"
      ]
     },
     "execution_count": 2,
     "metadata": {},
     "output_type": "execute_result"
    }
   ],
   "source": [
    "n, m, k = 10, 50, 5\n",
    "make_matrix_file(n, m, \"./data/hw1/matricA.txt\")\n",
    "make_matrix_file(m, k, \"./data/hw1/matricB.txt\")"
   ]
  },
  {
   "cell_type": "code",
   "execution_count": 3,
   "metadata": {
    "collapsed": true
   },
   "outputs": [],
   "source": [
    "def output_ans(file_A,file_B):\n",
    "    matrix_A = np.loadtxt( file_A, dtype=int)\n",
    "    matrix_B = np.loadtxt( file_B, dtype=int)\n",
    "    ans_one = matrix_A.dot(matrix_B).reshape([1,-1])\n",
    "    ans_one.sort()\n",
    "    count = 1\n",
    "    with open('./ans_one.txt', 'wt') as f:\n",
    "        for elt in np.nditer(ans_one):\n",
    "            f.write('{} {}\\n'.format(count, elt))\n",
    "            count += 1\n",
    "    return True"
   ]
  },
  {
   "cell_type": "code",
   "execution_count": 4,
   "metadata": {},
   "outputs": [
    {
     "data": {
      "text/plain": [
       "True"
      ]
     },
     "execution_count": 4,
     "metadata": {},
     "output_type": "execute_result"
    }
   ],
   "source": [
    "output_ans(\"./data/hw1/matricA.txt\", \"./data/hw1/matricB.txt\")"
   ]
  },
  {
   "cell_type": "code",
   "execution_count": 5,
   "metadata": {},
   "outputs": [
    {
     "name": "stdout",
     "output_type": "stream",
     "text": [
      "File `hw1.py` exists. Overwrite (y/[N])?  y\n",
      "The following commands were written to file `hw1.py`:\n",
      "import numpy as np\n",
      "from random import randint\n",
      "\n",
      "def make_matrix_file( n, m, output_file=\"./matricA.txt\", interval=[0,9] ):\n",
      "    matrix = np.random.randint( interval[0], interval[1] + 1, size=[n,m])\n",
      "    np.savetxt(output_file, matrix, fmt=\"%d\")\n",
      "    return True\n",
      "def output_ans(file_A,file_B):\n",
      "    matrix_A = np.loadtxt( file_A, dtype=int)\n",
      "    matrix_B = np.loadtxt( file_B, dtype=int)\n",
      "    ans_one = matrix_A.dot(matrix_B).reshape([1,-1])\n",
      "    ans_one.sort()\n",
      "    count = 1\n",
      "    with open('./ans_one.txt', 'wt') as f:\n",
      "        for elt in np.nditer(ans_one):\n",
      "            f.write('{} {}\\n'.format(count, elt))\n",
      "            count += 1\n",
      "    return True\n"
     ]
    }
   ],
   "source": [
    "%save hw1.py 1 3"
   ]
  },
  {
   "cell_type": "markdown",
   "metadata": {},
   "source": [
    "## images\n",
    "1. 讀取lena.png與lena_modified.png\n",
    "2. 使用後者異於前者的部分產生相同格式的新圖檔(ans_two.png)\n",
    "![](./img/input1.png);![](./img/input2.png);![](./img/output.png)"
   ]
  },
  {
   "cell_type": "code",
   "execution_count": 6,
   "metadata": {
    "collapsed": true
   },
   "outputs": [],
   "source": [
    "from PIL import Image\n",
    "import numpy as np"
   ]
  },
  {
   "cell_type": "code",
   "execution_count": 7,
   "metadata": {
    "collapsed": true
   },
   "outputs": [],
   "source": [
    "im1 = Image.open(\"./img/input1.png\")\n",
    "im2 = Image.open(\"./img/input2.png\")"
   ]
  },
  {
   "cell_type": "code",
   "execution_count": 8,
   "metadata": {
    "collapsed": true
   },
   "outputs": [],
   "source": [
    "width, heigh = im1.size\n",
    "data1 = im1.getdata()\n",
    "data2 = im2.getdata()"
   ]
  },
  {
   "cell_type": "code",
   "execution_count": 9,
   "metadata": {
    "scrolled": true
   },
   "outputs": [
    {
     "data": {
      "text/plain": [
       "('RGB', 'PNG')"
      ]
     },
     "execution_count": 9,
     "metadata": {},
     "output_type": "execute_result"
    }
   ],
   "source": [
    "im1.mode, im1.format"
   ]
  },
  {
   "cell_type": "code",
   "execution_count": 10,
   "metadata": {},
   "outputs": [],
   "source": [
    "new_pic = list()\n",
    "for pix_n in range(0, width*heigh):\n",
    "    pixel_1 = data1[pix_n]\n",
    "    pixel_2 = data2[pix_n]\n",
    "    judge = np.sum([pixel_1[x]==pixel_2[x] for x in range(0,len(pixel_1))])\n",
    "    if judge != 3:\n",
    "        new_pic.append(pixel_2)\n",
    "    else:\n",
    "        new_pic.append((255,255,255))"
   ]
  },
  {
   "cell_type": "code",
   "execution_count": 11,
   "metadata": {
    "collapsed": true
   },
   "outputs": [],
   "source": [
    "outpuy_im = Image.new(\"RGB\", (width,heigh), \"white\")"
   ]
  },
  {
   "cell_type": "code",
   "execution_count": 12,
   "metadata": {},
   "outputs": [],
   "source": [
    "outpuy_im.putdata(new_pic)"
   ]
  },
  {
   "cell_type": "code",
   "execution_count": 13,
   "metadata": {},
   "outputs": [
    {
     "data": {
      "image/png": "[encoded data removed]",
      "text/plain": [
       "<PIL.Image.Image image mode=RGB size=263x263 at 0x94ED48D240>"
      ]
     },
     "execution_count": 13,
     "metadata": {},
     "output_type": "execute_result"
    }
   ],
   "source": [
    "outpuy_im"
   ]
  },
  {
   "cell_type": "code",
   "execution_count": 14,
   "metadata": {
    "collapsed": true
   },
   "outputs": [],
   "source": [
    "outpuy_im.save(\"./data/hw1/ans_two.png\")"
   ]
  },
  {
   "cell_type": "markdown",
   "metadata": {},
   "source": [
    "use RBGA\n",
    "```python\n",
    "imgobj = Image.open('x.png')\n",
    "pixels = imgobj.convert('RGBA')\n",
    "data = imgobj.getdata()\n",
    "lofpixels = []\n",
    "for pixel in data:\n",
    "    lofpixels.extend(pixel)\n",
    "```"
   ]
  },
  {
   "cell_type": "code",
   "execution_count": 16,
   "metadata": {},
   "outputs": [],
   "source": [
    "file_path_1 = \"./img/input1.png\"\n",
    "file_path_2 = \"./img/input2.png\"\n",
    "img1 = Image.open(file_path_1).convert(\"RGBA\")\n",
    "img2 = Image.open(file_path_2).convert(\"RGBA\")\n",
    "data1 = img1.getdata()\n",
    "data2 = img2.getdata()\n",
    "count = 0 \n",
    "output = []\n",
    "zero_tuple = (0,0,0,0)\n",
    "for pixel1 in data1:\n",
    "    pixel2 = data2[count]\n",
    "    judge = np.sum([pixel1[x]==pixel2[x] for x in range(0,len(pixel1))])\n",
    "    if judge != 4:\n",
    "        output.append(pixel2)\n",
    "    else:\n",
    "        output.append(zero_tuple)\n",
    "    count += 1\n",
    "oim = Image.new(\"RGBA\", img1.size, \"white\")\n",
    "oim.putdata(output)\n",
    "oim.save(\"./ans_two.png\")"
   ]
  },
  {
   "cell_type": "code",
   "execution_count": null,
   "metadata": {
    "collapsed": true
   },
   "outputs": [],
   "source": [
    "%save 16"
   ]
  }
 ],
 "metadata": {
  "kernelspec": {
   "display_name": "Python 3",
   "language": "python",
   "name": "python3"
  },
  "language_info": {
   "codemirror_mode": {
    "name": "ipython",
    "version": 3
   },
   "file_extension": ".py",
   "mimetype": "text/x-python",
   "name": "python",
   "nbconvert_exporter": "python",
   "pygments_lexer": "ipython3",
   "version": "3.6.3"
  }
 },
 "nbformat": 4,
 "nbformat_minor": 2
}
