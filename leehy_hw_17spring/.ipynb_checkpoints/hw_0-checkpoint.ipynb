{
 "cells": [
  {
   "cell_type": "markdown",
   "metadata": {
    "collapsed": true
   },
   "source": [
    "# HW0\n",
    "[link](https://docs.google.com/presentation/d/1wQ4H_JbFkFzKhLhBrRa_tfBJOhb2JAk5bBeMWf_I-7U/edit#slide=id.p)\n",
    "\n",
    "1. [Q1](#matrix-operation)\n",
    "2. [Q2](#images)\n",
    "\n",
    "## 繳交格式\n",
    "./Q1.sh matrixA.txt matrixB.txt  \n",
    "\t輸出檔名: ans_one.txt  \n",
    "./Q2.sh  lena.png lena_modified.png  \n",
    "\t輸出檔名: ans_two.png  \n",
    "\n",
    "## Hint\n",
    "numpy\n",
    "\n",
    "[PIL](https://docs.google.com/presentation/d/18z60-n4nhOYuQphWX2tEXC6ZTcaqhL_Pg1v-GDVQxJQ/edit#slide=id.p)"
   ]
  },
  {
   "cell_type": "markdown",
   "metadata": {},
   "source": [
    "## matrix operation\n",
    "1.  讀取.txt中的矩陣\n",
    "2.  進行矩陣乘法 - matrixA * matrixB \n",
    "3.  將得到的矩陣數值，由小到大排序後輸出至ans_one.txt\n"
   ]
  },
  {
   "cell_type": "code",
   "execution_count": null,
   "metadata": {
    "collapsed": true
   },
   "outputs": [],
   "source": []
  },
  {
   "cell_type": "code",
   "execution_count": 3,
   "metadata": {},
   "outputs": [],
   "source": [
    "class mat:\n",
    "    import os\n",
    "    def __inint__():\n",
    "        pass\n",
    "    def read_mat(path):\n",
    "        with open(path,'r') as infile:\n",
    "            pass\n",
    "    "
   ]
  },
  {
   "cell_type": "markdown",
   "metadata": {},
   "source": [
    "## images\n",
    "1. 讀取lena.png與lena_modified.png\n",
    "2. 使用後者異於前者的部分產生相同格式的新圖檔(ans_two.png)\n",
    "![](./img/input1.png);![](./img/input2.png);![](./img/output.png)"
   ]
  },
  {
   "cell_type": "code",
   "execution_count": 9,
   "metadata": {
    "collapsed": true
   },
   "outputs": [],
   "source": [
    "from PIL import Image\n",
    "import numpy as np"
   ]
  },
  {
   "cell_type": "code",
   "execution_count": 5,
   "metadata": {
    "collapsed": true
   },
   "outputs": [],
   "source": [
    "im1 = Image.open(\"./img/input1.png\")\n",
    "im2 = Image.open(\"./img/input2.png\")"
   ]
  },
  {
   "cell_type": "code",
   "execution_count": 7,
   "metadata": {},
   "outputs": [],
   "source": [
    "width, heigh = im1.size\n",
    "data = im1.getdata()"
   ]
  },
  {
   "cell_type": "code",
   "execution_count": 33,
   "metadata": {},
   "outputs": [],
   "source": [
    "rgb_data = np.matrix(data)"
   ]
  },
  {
   "cell_type": "code",
   "execution_count": 45,
   "metadata": {},
   "outputs": [
    {
     "data": {
      "text/plain": [
       "(69169, 3)"
      ]
     },
     "execution_count": 45,
     "metadata": {},
     "output_type": "execute_result"
    }
   ],
   "source": [
    "rgb_data.shape"
   ]
  },
  {
   "cell_type": "code",
   "execution_count": null,
   "metadata": {
    "collapsed": true
   },
   "outputs": [],
   "source": []
  }
 ],
 "metadata": {
  "kernelspec": {
   "display_name": "Python 3",
   "language": "python",
   "name": "python3"
  },
  "language_info": {
   "codemirror_mode": {
    "name": "ipython",
    "version": 3
   },
   "file_extension": ".py",
   "mimetype": "text/x-python",
   "name": "python",
   "nbconvert_exporter": "python",
   "pygments_lexer": "ipython3",
   "version": "3.6.3"
  }
 },
 "nbformat": 4,
 "nbformat_minor": 2
}
